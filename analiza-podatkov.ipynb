{
 "cells": [
  {
   "cell_type": "markdown",
   "metadata": {},
   "source": [
    "# Najbolj popularne pesmi\n",
    "\n",
    "---\n"
   ]
  },
  {
   "cell_type": "markdown",
   "metadata": {},
   "source": [
    "## Uvod\n",
    "\n",
    "Pri projektni nalogi sem se osredotočila na analizo podatkov 100 najbolj popularnih pesmi v tednu 15. - 21. 10. 2021.\n",
    "Podatke sem pridobila s pomočjo lestvice, dostopne na spletni strani [Rolling Stone](https://www.rollingstone.com/charts/songs/2021-10-18/).\n",
    "\n",
    "Za vsako pesem sem zajela sledeče podatke:\n",
    "- naslov in izvajalec pesmi,\n",
    "- število tednov na lestvici,\n",
    "- število predvajanj (\"streams\"),\n",
    "- mesto, v katerem je pesem najbolj popularna (pri čemer se štejejo zgolj ameriška mesta),\n",
    "- glasbena založba, s katero izvajalec sodeluje.\n",
    "\n",
    "Podatke sem statistično obdelala ter analizirala njihovo soodvisnost glede na svoje delovne hipoteze:\n",
    "- Ali bo imela pesem večje število predvajanj, če je več tednov na lestvici?\n",
    "- Ali bodo na lestvici prevladovale pesmi, katerih izvajalci imajo pogodbe z glasbenimi založbami?\n",
    "\n",
    "---\n"
   ]
  },
  {
   "cell_type": "markdown",
   "metadata": {},
   "source": [
    "## Uvoz podatkov"
   ]
  },
  {
   "cell_type": "code",
   "execution_count": 90,
   "metadata": {},
   "outputs": [],
   "source": [
    "import pandas as pd\n",
    "import numpy as np\n",
    "import matplotlib.pyplot as plt\n",
    "\n",
    "%matplotlib inline\n",
    "\n",
    "pd.options.display.max_rows = 20"
   ]
  },
  {
   "cell_type": "code",
   "execution_count": 91,
   "metadata": {},
   "outputs": [],
   "source": [
    "pesmi = pd.read_csv(\"filmi.csv\", index_col = \"rank\")"
   ]
  },
  {
   "cell_type": "code",
   "execution_count": 92,
   "metadata": {},
   "outputs": [
    {
     "data": {
      "text/html": [
       "<div>\n",
       "<style scoped>\n",
       "    .dataframe tbody tr th:only-of-type {\n",
       "        vertical-align: middle;\n",
       "    }\n",
       "\n",
       "    .dataframe tbody tr th {\n",
       "        vertical-align: top;\n",
       "    }\n",
       "\n",
       "    .dataframe thead th {\n",
       "        text-align: right;\n",
       "    }\n",
       "</style>\n",
       "<table border=\"1\" class=\"dataframe\">\n",
       "  <thead>\n",
       "    <tr style=\"text-align: right;\">\n",
       "      <th></th>\n",
       "      <th>Naslov</th>\n",
       "      <th>Pevec</th>\n",
       "      <th>Št. tednov na lestvici</th>\n",
       "      <th>Glasbena založba</th>\n",
       "      <th>Top mesto</th>\n",
       "      <th>Število predvajanj</th>\n",
       "    </tr>\n",
       "    <tr>\n",
       "      <th>rank</th>\n",
       "      <th></th>\n",
       "      <th></th>\n",
       "      <th></th>\n",
       "      <th></th>\n",
       "      <th></th>\n",
       "      <th></th>\n",
       "    </tr>\n",
       "  </thead>\n",
       "  <tbody>\n",
       "    <tr>\n",
       "      <th>1</th>\n",
       "      <td>Easy on Me</td>\n",
       "      <td>Adele</td>\n",
       "      <td>1</td>\n",
       "      <td>Columbia Records</td>\n",
       "      <td>Boston, MA (Manchester, NH)</td>\n",
       "      <td>44.7M</td>\n",
       "    </tr>\n",
       "    <tr>\n",
       "      <th>2</th>\n",
       "      <td>Stay</td>\n",
       "      <td>The Kid LAROI, Justin Bieber</td>\n",
       "      <td>15</td>\n",
       "      <td>Columbia Records</td>\n",
       "      <td>Pittsburgh, PA</td>\n",
       "      <td>16.9M</td>\n",
       "    </tr>\n",
       "    <tr>\n",
       "      <th>3</th>\n",
       "      <td>Industry Baby</td>\n",
       "      <td>Lil Nas X, Jack Harlow</td>\n",
       "      <td>13</td>\n",
       "      <td>Columbia Records</td>\n",
       "      <td>Pittsburgh, PA</td>\n",
       "      <td>17.5M</td>\n",
       "    </tr>\n",
       "    <tr>\n",
       "      <th>4</th>\n",
       "      <td>Fancy Like</td>\n",
       "      <td>Walker Hayes</td>\n",
       "      <td>18</td>\n",
       "      <td>Monument</td>\n",
       "      <td>Pittsburgh, PA</td>\n",
       "      <td>13.7M</td>\n",
       "    </tr>\n",
       "    <tr>\n",
       "      <th>5</th>\n",
       "      <td>Way 2 Sexy</td>\n",
       "      <td>Drake feat. Future, Young Thug</td>\n",
       "      <td>7</td>\n",
       "      <td>Republic/Cash Money</td>\n",
       "      <td>Miami-Fort Lauderdale, FL</td>\n",
       "      <td>15.9M</td>\n",
       "    </tr>\n",
       "    <tr>\n",
       "      <th>...</th>\n",
       "      <td>...</td>\n",
       "      <td>...</td>\n",
       "      <td>...</td>\n",
       "      <td>...</td>\n",
       "      <td>...</td>\n",
       "      <td>...</td>\n",
       "    </tr>\n",
       "    <tr>\n",
       "      <th>96</th>\n",
       "      <td>Stupid/Asking</td>\n",
       "      <td>Young Thug</td>\n",
       "      <td>1</td>\n",
       "      <td>300 Entertainment</td>\n",
       "      <td>Charlottesville, VA</td>\n",
       "      <td>4.4M</td>\n",
       "    </tr>\n",
       "    <tr>\n",
       "      <th>97</th>\n",
       "      <td>Yonaguni</td>\n",
       "      <td>Bad Bunny</td>\n",
       "      <td>20</td>\n",
       "      <td>ORCA</td>\n",
       "      <td>Puerto Rico, PR</td>\n",
       "      <td>4.6M</td>\n",
       "    </tr>\n",
       "    <tr>\n",
       "      <th>98</th>\n",
       "      <td>Here We Go</td>\n",
       "      <td>Mac Miller</td>\n",
       "      <td>1</td>\n",
       "      <td>Warner Bros.</td>\n",
       "      <td>Albuquerque-Santa Fe, NM</td>\n",
       "      <td>4.2M</td>\n",
       "    </tr>\n",
       "    <tr>\n",
       "      <th>99</th>\n",
       "      <td>Life Goes On</td>\n",
       "      <td>Oliver Tree</td>\n",
       "      <td>3</td>\n",
       "      <td>Atlantic Records</td>\n",
       "      <td>Anchorage, AK</td>\n",
       "      <td>4.9M</td>\n",
       "    </tr>\n",
       "    <tr>\n",
       "      <th>100</th>\n",
       "      <td>Love in the Dark</td>\n",
       "      <td>Adele</td>\n",
       "      <td>1</td>\n",
       "      <td>XL Recordings/Columbia</td>\n",
       "      <td>Columbia, SC</td>\n",
       "      <td>4.4M</td>\n",
       "    </tr>\n",
       "  </tbody>\n",
       "</table>\n",
       "<p>100 rows × 6 columns</p>\n",
       "</div>"
      ],
      "text/plain": [
       "                Naslov                           Pevec  \\\n",
       "rank                                                     \n",
       "1           Easy on Me                           Adele   \n",
       "2                 Stay    The Kid LAROI, Justin Bieber   \n",
       "3        Industry Baby          Lil Nas X, Jack Harlow   \n",
       "4           Fancy Like                    Walker Hayes   \n",
       "5           Way 2 Sexy  Drake feat. Future, Young Thug   \n",
       "...                ...                             ...   \n",
       "96       Stupid/Asking                      Young Thug   \n",
       "97            Yonaguni                       Bad Bunny   \n",
       "98          Here We Go                      Mac Miller   \n",
       "99        Life Goes On                     Oliver Tree   \n",
       "100   Love in the Dark                           Adele   \n",
       "\n",
       "      Št. tednov na lestvici        Glasbena založba  \\\n",
       "rank                                                   \n",
       "1                          1        Columbia Records   \n",
       "2                         15        Columbia Records   \n",
       "3                         13        Columbia Records   \n",
       "4                         18                Monument   \n",
       "5                          7     Republic/Cash Money   \n",
       "...                      ...                     ...   \n",
       "96                         1       300 Entertainment   \n",
       "97                        20                    ORCA   \n",
       "98                         1            Warner Bros.   \n",
       "99                         3        Atlantic Records   \n",
       "100                        1  XL Recordings/Columbia   \n",
       "\n",
       "                        Top mesto Število predvajanj  \n",
       "rank                                                  \n",
       "1     Boston, MA (Manchester, NH)              44.7M  \n",
       "2                  Pittsburgh, PA              16.9M  \n",
       "3                  Pittsburgh, PA              17.5M  \n",
       "4                  Pittsburgh, PA              13.7M  \n",
       "5       Miami-Fort Lauderdale, FL              15.9M  \n",
       "...                           ...                ...  \n",
       "96            Charlottesville, VA               4.4M  \n",
       "97                Puerto Rico, PR               4.6M  \n",
       "98       Albuquerque-Santa Fe, NM               4.2M  \n",
       "99                  Anchorage, AK               4.9M  \n",
       "100                  Columbia, SC               4.4M  \n",
       "\n",
       "[100 rows x 6 columns]"
      ]
     },
     "execution_count": 92,
     "metadata": {},
     "output_type": "execute_result"
    }
   ],
   "source": [
    "pesmi.columns = [\"Naslov\", \"Pevec\", \"Št. tednov na lestvici\", \"Glasbena založba\", \"Top mesto\", \"Število predvajanj\"]\n",
    "pesmi"
   ]
  },
  {
   "cell_type": "markdown",
   "metadata": {},
   "source": [
    "Do sedaj narejene spremembe:\n",
    "- v tabeli \"pesmi\" sem spremenila imena stolpcev, da so bolj berljivi (tednov_na_lestvici -> Št. tednov na lestvici, top_mesto -> Top mesto),\n",
    "- za indeks vsake pesmi sem izbrala kar njihov rank na lestvici tisti teden."
   ]
  },
  {
   "cell_type": "markdown",
   "metadata": {},
   "source": [
    "Pesmi v razpredelnici so razporejene po vrsti tako, kot so bile razvrščene na spletni strani Rolling Stone: najbolj predvajana pesem tisti teden\n",
    "je na vrhu lestvice, najmanj predvajana pesem tisti teden pa na dnu lestvice.\n",
    "\n",
    "---\n"
   ]
  },
  {
   "cell_type": "markdown",
   "metadata": {},
   "source": [
    "## Analiza podatkov"
   ]
  },
  {
   "cell_type": "markdown",
   "metadata": {},
   "source": [
    "### Pesmi glede na mesta, v katerih so bila najbolj predvajana\n",
    "\n",
    "Število pesmi sem razdelila padajoče glede na mesta, v katerem so bile pesmi v tistem tednu najpogosteje predvajane.\n",
    "\n",
    "**Hipoteza**: Moja hipoteza je, da bo v mestih z večjim številom prebivalcev bilo več popularnih pesmi. Glede na graf se bo\n",
    "torej populacija mesta manjšala v smeri x-osi."
   ]
  },
  {
   "cell_type": "code",
   "execution_count": 55,
   "metadata": {},
   "outputs": [
    {
     "data": {
      "text/plain": [
       "<AxesSubplot:title={'center':'Število pesmi po mestih'}>"
      ]
     },
     "execution_count": 55,
     "metadata": {},
     "output_type": "execute_result"
    },
    {
     "data": {
      "image/png": "[encoded data removed]",
      "text/plain": [
       "<Figure size 1080x360 with 1 Axes>"
      ]
     },
     "metadata": {
      "needs_background": "light"
     },
     "output_type": "display_data"
    }
   ],
   "source": [
    "stevec_mest = pesmi[\"Top mesto\"].value_counts()\n",
    "stevec_mest[:10].plot.bar(figsize = (15, 5), title = \"Število pesmi po mestih\")"
   ]
  },
  {
   "cell_type": "markdown",
   "metadata": {},
   "source": [
    "Po analizi prvih petnajstih mest sem opazila, da po \"St. Louis, MO\" število pesmi stagnira na 2 oziroma se zgolj zmanjša za 1.\n",
    "Zaradi tega razloga sem se odličila za prikaz le prvih desetih mest, ki vodijo po številu pesmi.\n",
    "\n",
    "Zato, da lahko potrdim ali ovržem svojo hipotezo pa si bom ogledala še število prebivalstva teh prvih desetih mest \n",
    "(glede na google, štetje prebivalstva leta 2019), pri čemer bom:\n",
    "- za vodilno mesto (\"Boston, MA (Manchester, NH)\") zajela le populacijo bolj poseljenega mesta - Boston,\n",
    "- pri četrtem mestu, \"Minneapolis - St. Paul, MN\" seštela populaciji obeh mest, saj je v statistiki na spletni strani\n",
    "mišljeno združenje obeh mest,\n",
    "- populacijo nehala šteti po \"St. Louis, MO\", saj število pesmi po tem mestu očitno stagnira.\n",
    "\n",
    "Če se v spodnji tabeli populacija mest od zgoraj navzdol manjša, bo moja hipoteza potrjena, sicer ne."
   ]
  },
  {
   "cell_type": "markdown",
   "metadata": {},
   "source": [
    "| Mesto                      | Populacija |\n",
    "| -------------------------- | ---------  |\n",
    "| Boston, MA                 | 684 379    |\n",
    "| Pittsburgh, PA             | 302 205    |\n",
    "| Memphis, TN                | 651,932    |\n",
    "| Minneapolis - St. Paul, MN | 724 871    |\n",
    "| New York, NY               | 8 419 000  |\n",
    "| Puerto Rico, PR            | 3 194 000  |\n",
    "| St. Louis, MO              | 308 174    |"
   ]
  },
  {
   "cell_type": "markdown",
   "metadata": {},
   "source": [
    "Glede na analizo tabele in primerjavo z zgornjim grafom lahko ovržemo hipotezo. Hkrati me je ob analizi mest presenetilo, da sta bila na seznamu zgolj\n",
    "dve mesti z relativno visokim številom prebivalstva - Puerto Rico in New York. Čeprav iz danih podatkov ne moremo izluščiti nobene trdne teorije, lahko\n",
    "iz prikazov bežno razberemo, kateri prebivalci ZDA so prekomerno navdušeni nad \"pop\" zvrstjo glasbe.\n",
    "\n",
    "---\n"
   ]
  },
  {
   "cell_type": "markdown",
   "metadata": {},
   "source": [
    "### Povezava z glasbenimi založbami\n",
    "\n",
    "Število pesmi bom zdaj razdelila glede na založbe, s katerimi so izvajalci sodelovali ob izdaji določene pesmi.\n",
    "\n",
    "Standard je, da izvajalec pogodbo podpiše zgolj z eno glasbeno založbo, vendar to ne drži vedno. Za primer si lahko vzamemo Adele,\n",
    "ki je imela v izbranem tednu na lestvici pet pesmi. Štiri izmed teh so bile izdane v letu 2015, katerih glasbena založba je na lestvici\n",
    "navedena kot \"XL Recordings/Columbia\". Njena peta pesem pa je bila izdana v istem tednu, kot je bila pisana ta lestvica. Založba, pod\n",
    "katero je Adele izdala to pesem pa je \"Columbia Records\". Razlog, za ta pojav je, da je Adele do leta 2016 sodelovala predvsem z britansko\n",
    "glasbeno založbo \"XL Recordings\". Z ameriško založbo \"Columbia Records\" je sodelovala zgolj, da so bile njene pesmi predvajane tudi po\n",
    "ameriškem kontinentu. Po letu 2016 pa je podpisala pogodbo s \"Columbia Records\", torej od tedaj sodeluje striktno z njimi.\n",
    "(*Vir: [hiperpovezava](https://en.wikipedia.org/wiki/Adele)*)\n",
    "\n",
    "Zaradi tega pojava se zna zgoditi, da bo kateri izvajale pogosto asociiran z več kot eno glasbeno založbo. Zaradi tega se v tej\n",
    "analizi podatkov ne bom osredotočila na iskanje odvisnosti/povezanosti med izvajalcem in glasbeno založbo, čeprav je po večini\n",
    "pričakovano, da ima en izvajalec eno založbo.\n",
    "\n",
    "**Hipoteza**: Najbolj popularne ameriške glasbene založbe bodo imele največ popularnih pesmi."
   ]
  },
  {
   "cell_type": "code",
   "execution_count": 56,
   "metadata": {},
   "outputs": [
    {
     "data": {
      "text/plain": [
       "<AxesSubplot:title={'center':'Število pesmi po glasbenih založbah'}>"
      ]
     },
     "execution_count": 56,
     "metadata": {},
     "output_type": "execute_result"
    },
    {
     "data": {
      "image/png": "[encoded data removed]",
      "text/plain": [
       "<Figure size 1080x360 with 1 Axes>"
      ]
     },
     "metadata": {
      "needs_background": "light"
     },
     "output_type": "display_data"
    }
   ],
   "source": [
    "stevec_zalozb = pesmi[\"Glasbena založba\"].value_counts()\n",
    "stevec_zalozb[:15].plot.bar(figsize = (15, 5), title = \"Število pesmi po glasbenih založbah\")"
   ]
  },
  {
   "cell_type": "markdown",
   "metadata": {},
   "source": [
    "Za ta odsek analize lahko svojo hipotezo potrdim. Glede na [že znane podatke](https://www.dailymusicroll.com/entertainment/the-top-10-record-labels-in-the-current-american-music-industry.html) je večina glavnih glasbenih založb pod okriljem treh glavnih \"večjih založb\", ki pod seboj združujejo manjše,\n",
    "na zvrst osredotočene glasbene založbe.\n",
    "\n",
    "Na zgornjem grafu so vse razen glasbene založbe \"ORCA\", ki je osredotočena na inozemske izvajalce, pod okriljem\n",
    "ene izmed treh glavnih glasbenih založb:\n",
    "- **Universal**: Republic, Def Jam, Interscope;\n",
    "- **Warner**: 300 Entertainment, Atlantic Records, Warner Bros, Parlophone;\n",
    "- **Sony**: Columbia Records, RCA (Recordings), Columbia Nashville, Arista Nashville.\n",
    "\n",
    "Pričakovano je tudi, da imajo \"lokalne\" glasbene založbe (npr. Columbia Nashville, Arista Nashville) manj popularnih\n",
    "pesmi kot globalne (npr. Columbia Records, 300 Entertainment).\n",
    "\n",
    "---\n"
   ]
  },
  {
   "cell_type": "markdown",
   "metadata": {},
   "source": [
    "**Hipoteza**: Na lestvici bodo prevladovale pesmi, katerih izvajalci imajo podpisane pogodbe z glasbenimi založbami."
   ]
  },
  {
   "cell_type": "markdown",
   "metadata": {},
   "source": [
    "Oglejmo si število popularnih pesmi, katerih izvajalci so bili samostojni:"
   ]
  },
  {
   "cell_type": "code",
   "execution_count": 80,
   "metadata": {},
   "outputs": [
    {
     "data": {
      "text/html": [
       "<div>\n",
       "<style scoped>\n",
       "    .dataframe tbody tr th:only-of-type {\n",
       "        vertical-align: middle;\n",
       "    }\n",
       "\n",
       "    .dataframe tbody tr th {\n",
       "        vertical-align: top;\n",
       "    }\n",
       "\n",
       "    .dataframe thead th {\n",
       "        text-align: right;\n",
       "    }\n",
       "</style>\n",
       "<table border=\"1\" class=\"dataframe\">\n",
       "  <thead>\n",
       "    <tr style=\"text-align: right;\">\n",
       "      <th></th>\n",
       "      <th>Naslov</th>\n",
       "      <th>Pevec</th>\n",
       "      <th>Št. tednov na lestvici</th>\n",
       "      <th>Glasbena založba</th>\n",
       "      <th>Top mesto</th>\n",
       "      <th>Število predvajanj</th>\n",
       "    </tr>\n",
       "    <tr>\n",
       "      <th>rank</th>\n",
       "      <th></th>\n",
       "      <th></th>\n",
       "      <th></th>\n",
       "      <th></th>\n",
       "      <th></th>\n",
       "      <th></th>\n",
       "    </tr>\n",
       "  </thead>\n",
       "  <tbody>\n",
       "    <tr>\n",
       "      <th>9</th>\n",
       "      <td>Who Want Smoke?</td>\n",
       "      <td>Nardo Wick feat. G Herbo, Lil Durk, 21 Savage</td>\n",
       "      <td>2</td>\n",
       "      <td>NaN</td>\n",
       "      <td>Chicago, IL</td>\n",
       "      <td>13.3M</td>\n",
       "    </tr>\n",
       "    <tr>\n",
       "      <th>14</th>\n",
       "      <td>Pissed Me Off</td>\n",
       "      <td>Lil Durk</td>\n",
       "      <td>1</td>\n",
       "      <td>NaN</td>\n",
       "      <td>New Orleans, LA</td>\n",
       "      <td>10.6M</td>\n",
       "    </tr>\n",
       "    <tr>\n",
       "      <th>22</th>\n",
       "      <td>Cold Heart</td>\n",
       "      <td>Elton John, Dua Lipa, PNAU</td>\n",
       "      <td>5</td>\n",
       "      <td>NaN</td>\n",
       "      <td>Boston, MA (Manchester, NH)</td>\n",
       "      <td>7.2M</td>\n",
       "    </tr>\n",
       "    <tr>\n",
       "      <th>29</th>\n",
       "      <td>Ex For A Reason</td>\n",
       "      <td>Summer Walker, City Girls</td>\n",
       "      <td>1</td>\n",
       "      <td>NaN</td>\n",
       "      <td>Memphis, TN</td>\n",
       "      <td>7M</td>\n",
       "    </tr>\n",
       "    <tr>\n",
       "      <th>30</th>\n",
       "      <td>Buy Dirt</td>\n",
       "      <td>Jordan Davis feat. Luke Bryan</td>\n",
       "      <td>11</td>\n",
       "      <td>NaN</td>\n",
       "      <td>Minneapolis-St. Paul, MN</td>\n",
       "      <td>6.7M</td>\n",
       "    </tr>\n",
       "    <tr>\n",
       "      <th>37</th>\n",
       "      <td>Wfm</td>\n",
       "      <td>Realestk</td>\n",
       "      <td>2</td>\n",
       "      <td>NaN</td>\n",
       "      <td>Columbia, SC</td>\n",
       "      <td>6.9M</td>\n",
       "    </tr>\n",
       "    <tr>\n",
       "      <th>42</th>\n",
       "      <td>You Should Probably Leave</td>\n",
       "      <td>Chris Stapleton</td>\n",
       "      <td>6</td>\n",
       "      <td>NaN</td>\n",
       "      <td>Cincinnati, OH</td>\n",
       "      <td>6M</td>\n",
       "    </tr>\n",
       "    <tr>\n",
       "      <th>43</th>\n",
       "      <td>Blinding Lights</td>\n",
       "      <td>The Weeknd</td>\n",
       "      <td>99</td>\n",
       "      <td>NaN</td>\n",
       "      <td>Miami-Fort Lauderdale, FL</td>\n",
       "      <td>6.2M</td>\n",
       "    </tr>\n",
       "    <tr>\n",
       "      <th>45</th>\n",
       "      <td>Lo Siento BB:/</td>\n",
       "      <td>Tainy, Julieta Venegas, Bad Bunny</td>\n",
       "      <td>2</td>\n",
       "      <td>NaN</td>\n",
       "      <td>Puerto Rico, PR</td>\n",
       "      <td>6.3M</td>\n",
       "    </tr>\n",
       "    <tr>\n",
       "      <th>64</th>\n",
       "      <td>No Role Modelz</td>\n",
       "      <td>J. Cole</td>\n",
       "      <td>29</td>\n",
       "      <td>NaN</td>\n",
       "      <td>Odessa-Midland, TX</td>\n",
       "      <td>5.6M</td>\n",
       "    </tr>\n",
       "    <tr>\n",
       "      <th>66</th>\n",
       "      <td>Wants and Needs</td>\n",
       "      <td>Drake feat. Lil Baby</td>\n",
       "      <td>33</td>\n",
       "      <td>NaN</td>\n",
       "      <td>Meridian, MS</td>\n",
       "      <td>5.6M</td>\n",
       "    </tr>\n",
       "    <tr>\n",
       "      <th>75</th>\n",
       "      <td>Take My Breath</td>\n",
       "      <td>The Weeknd</td>\n",
       "      <td>11</td>\n",
       "      <td>NaN</td>\n",
       "      <td>New York, NY</td>\n",
       "      <td>4.8M</td>\n",
       "    </tr>\n",
       "    <tr>\n",
       "      <th>94</th>\n",
       "      <td>Whiskey Glasses</td>\n",
       "      <td>Morgan Wallen</td>\n",
       "      <td>95</td>\n",
       "      <td>NaN</td>\n",
       "      <td>Little Rock-Pine Bluff, AR</td>\n",
       "      <td>4.5M</td>\n",
       "    </tr>\n",
       "  </tbody>\n",
       "</table>\n",
       "</div>"
      ],
      "text/plain": [
       "                         Naslov  \\\n",
       "rank                              \n",
       "9               Who Want Smoke?   \n",
       "14                Pissed Me Off   \n",
       "22                   Cold Heart   \n",
       "29              Ex For A Reason   \n",
       "30                     Buy Dirt   \n",
       "37                          Wfm   \n",
       "42    You Should Probably Leave   \n",
       "43              Blinding Lights   \n",
       "45               Lo Siento BB:/   \n",
       "64               No Role Modelz   \n",
       "66              Wants and Needs   \n",
       "75               Take My Breath   \n",
       "94              Whiskey Glasses   \n",
       "\n",
       "                                              Pevec  Št. tednov na lestvici  \\\n",
       "rank                                                                          \n",
       "9     Nardo Wick feat. G Herbo, Lil Durk, 21 Savage                       2   \n",
       "14                                         Lil Durk                       1   \n",
       "22                       Elton John, Dua Lipa, PNAU                       5   \n",
       "29                        Summer Walker, City Girls                       1   \n",
       "30                    Jordan Davis feat. Luke Bryan                      11   \n",
       "37                                         Realestk                       2   \n",
       "42                                  Chris Stapleton                       6   \n",
       "43                                       The Weeknd                      99   \n",
       "45                Tainy, Julieta Venegas, Bad Bunny                       2   \n",
       "64                                          J. Cole                      29   \n",
       "66                             Drake feat. Lil Baby                      33   \n",
       "75                                       The Weeknd                      11   \n",
       "94                                    Morgan Wallen                      95   \n",
       "\n",
       "     Glasbena založba                    Top mesto Število predvajanj  \n",
       "rank                                                                   \n",
       "9                 NaN                  Chicago, IL              13.3M  \n",
       "14                NaN              New Orleans, LA              10.6M  \n",
       "22                NaN  Boston, MA (Manchester, NH)               7.2M  \n",
       "29                NaN                  Memphis, TN                 7M  \n",
       "30                NaN     Minneapolis-St. Paul, MN               6.7M  \n",
       "37                NaN                 Columbia, SC               6.9M  \n",
       "42                NaN               Cincinnati, OH                 6M  \n",
       "43                NaN    Miami-Fort Lauderdale, FL               6.2M  \n",
       "45                NaN              Puerto Rico, PR               6.3M  \n",
       "64                NaN           Odessa-Midland, TX               5.6M  \n",
       "66                NaN                 Meridian, MS               5.6M  \n",
       "75                NaN                 New York, NY               4.8M  \n",
       "94                NaN   Little Rock-Pine Bluff, AR               4.5M  "
      ]
     },
     "execution_count": 80,
     "metadata": {},
     "output_type": "execute_result"
    }
   ],
   "source": [
    "pesmi[pesmi[\"Glasbena založba\"].isnull()]"
   ]
  },
  {
   "cell_type": "code",
   "execution_count": 81,
   "metadata": {},
   "outputs": [
    {
     "data": {
      "text/plain": [
       "13"
      ]
     },
     "execution_count": 81,
     "metadata": {},
     "output_type": "execute_result"
    }
   ],
   "source": [
    "len(pesmi[pesmi[\"Glasbena založba\"].isnull()])"
   ]
  },
  {
   "cell_type": "code",
   "execution_count": 82,
   "metadata": {},
   "outputs": [
    {
     "data": {
      "text/plain": [
       "87"
      ]
     },
     "execution_count": 82,
     "metadata": {},
     "output_type": "execute_result"
    }
   ],
   "source": [
    "100 - 13"
   ]
  },
  {
   "cell_type": "markdown",
   "metadata": {},
   "source": [
    "Ker imamo na seznamu 13 pesmi brez založb, je torej 87 izmed 100 pesmi na seznamu pesmi, katerih izvajalec je ob izdaji pesmi sodeloval z glasbeno založbo.\n",
    "\n",
    "Svojo hipotezo s tem lahko potrdim, saj na lestvici očitno prevladujejo pesmi z glasbenimi založbami. To je tudi v skladu s pričakovanji,\n",
    "saj je ena izmed glavnih nalog glasbenih založb to, da promovirajo pesmi svojih izvajalcev. Zaradi takšnih reklamacij pa pesmi seveda postanejo bolj popularne.\n",
    "\n",
    "---\n"
   ]
  },
  {
   "cell_type": "markdown",
   "metadata": {},
   "source": [
    "### Koliko tednov je v povprečju pesem na lestvici?\n",
    "\n",
    "**Hipoteza**: Večina pesmi je na lestvici zgolj za kratek čas.\n",
    "Predvidela bi, da je povprečno število tednov pesmi na lestvici približno 4.\n",
    "\n",
    "Oglejmo si število pesmi glede na število tednov na lestvici (x-os sem omejila do 40, saj potem število začne stagnirati):"
   ]
  },
  {
   "cell_type": "code",
   "execution_count": 98,
   "metadata": {},
   "outputs": [
    {
     "data": {
      "text/plain": [
       "(0.0, 40.0)"
      ]
     },
     "execution_count": 98,
     "metadata": {},
     "output_type": "execute_result"
    },
    {
     "data": {
      "image/png": "[encoded data removed]",
      "text/plain": [
       "<Figure size 1440x720 with 1 Axes>"
      ]
     },
     "metadata": {
      "needs_background": "light"
     },
     "output_type": "display_data"
    }
   ],
   "source": [
    "pesmi_po_tednih = pesmi.groupby(\"Št. tednov na lestvici\")\n",
    "pesmi_po_tednih.size().plot(figsize = (20,10), title = \"Število tednov na lestvici\")\n",
    "plt.xlim(0.0, 40.0)"
   ]
  },
  {
   "cell_type": "code",
   "execution_count": 103,
   "metadata": {},
   "outputs": [
    {
     "data": {
      "text/plain": [
       "2.5"
      ]
     },
     "execution_count": 103,
     "metadata": {},
     "output_type": "execute_result"
    }
   ],
   "source": [
    "pesmi_po_tednih.size().sort_values(ascending = False).mean()"
   ]
  },
  {
   "cell_type": "markdown",
   "metadata": {},
   "source": [
    "S tem lahko potrdim hipotezo, da je največ pesmi popularnih le kratek čas. Povprečno število tednov pa je sicer še manjše, kot sem ga pričakovala.\n",
    "Povprečna pesem je na lestvici namreč 2.5 tedna.\n",
    "Rezultati so v skladu s pričakovanji: pop pesmi so narejene za več poslušanj naenkrat, a prav zaradi tega se jih ljudje zelo hitro naveličajo.\n",
    "Tedenske lestvice se zato iz tedna v teden drastično spreminjajo."
   ]
  },
  {
   "cell_type": "code",
   "execution_count": 104,
   "metadata": {},
   "outputs": [
    {
     "data": {
      "text/plain": [
       "Št. tednov na lestvici\n",
       "1      20\n",
       "7       8\n",
       "2       7\n",
       "17      5\n",
       "4       4\n",
       "       ..\n",
       "19      1\n",
       "18      1\n",
       "16      1\n",
       "15      1\n",
       "119     1\n",
       "Length: 40, dtype: int64"
      ]
     },
     "execution_count": 104,
     "metadata": {},
     "output_type": "execute_result"
    }
   ],
   "source": [
    "pesmi_po_tednih.size().sort_values(ascending = False)"
   ]
  },
  {
   "cell_type": "code",
   "execution_count": 105,
   "metadata": {},
   "outputs": [
    {
     "data": {
      "text/html": [
       "<div>\n",
       "<style scoped>\n",
       "    .dataframe tbody tr th:only-of-type {\n",
       "        vertical-align: middle;\n",
       "    }\n",
       "\n",
       "    .dataframe tbody tr th {\n",
       "        vertical-align: top;\n",
       "    }\n",
       "\n",
       "    .dataframe thead th {\n",
       "        text-align: right;\n",
       "    }\n",
       "</style>\n",
       "<table border=\"1\" class=\"dataframe\">\n",
       "  <thead>\n",
       "    <tr style=\"text-align: right;\">\n",
       "      <th></th>\n",
       "      <th>Naslov</th>\n",
       "      <th>Pevec</th>\n",
       "      <th>Št. tednov na lestvici</th>\n",
       "      <th>Glasbena založba</th>\n",
       "      <th>Top mesto</th>\n",
       "      <th>Število predvajanj</th>\n",
       "    </tr>\n",
       "    <tr>\n",
       "      <th>rank</th>\n",
       "      <th></th>\n",
       "      <th></th>\n",
       "      <th></th>\n",
       "      <th></th>\n",
       "      <th></th>\n",
       "      <th></th>\n",
       "    </tr>\n",
       "  </thead>\n",
       "  <tbody>\n",
       "    <tr>\n",
       "      <th>72</th>\n",
       "      <td>Sunflower</td>\n",
       "      <td>Post Malone &amp; Swae Lee</td>\n",
       "      <td>119</td>\n",
       "      <td>Republic</td>\n",
       "      <td>Salt Lake City, UT</td>\n",
       "      <td>5.1M</td>\n",
       "    </tr>\n",
       "  </tbody>\n",
       "</table>\n",
       "</div>"
      ],
      "text/plain": [
       "         Naslov                   Pevec  Št. tednov na lestvici  \\\n",
       "rank                                                              \n",
       "72    Sunflower  Post Malone & Swae Lee                     119   \n",
       "\n",
       "     Glasbena založba           Top mesto Število predvajanj  \n",
       "rank                                                          \n",
       "72           Republic  Salt Lake City, UT               5.1M  "
      ]
     },
     "execution_count": 105,
     "metadata": {},
     "output_type": "execute_result"
    }
   ],
   "source": [
    "pesmi[pesmi[\"Št. tednov na lestvici\"] == 119]"
   ]
  },
  {
   "cell_type": "markdown",
   "metadata": {},
   "source": [
    "Pesem, ki je ostala la lestvici že najdlje - 119 tednov, je \"Sunflower\", ki sta jo napisala Post Malone & Swae Lee.\n",
    "Glede na to, da je bila ta pesem predvajana v izjemno popularnem filmu \"Spider-Man: Into the Spider-Verse\", je pričakovano,\n",
    "da je še zmeraj ena izmed bolj poslušanih pesmi.\n",
    "\n",
    "---\n"
   ]
  },
  {
   "cell_type": "markdown",
   "metadata": {},
   "source": [
    "### Število predvajanj v odvisnosti od spremenljivk\n",
    "\n",
    "V tem podpoglavju se bom osredotočila na število predvajanj posamezne pesmi ter njeno odvisnost od tednov na lestvici ter mesta na lestvici.\n",
    "\n",
    "**Hipoteza**: Menim, da višje, kot je pesem na lestvici, več predvajanj/\"streamov\" bo imela."
   ]
  },
  {
   "cell_type": "markdown",
   "metadata": {},
   "source": []
  }
 ],
 "metadata": {
  "interpreter": {
   "hash": "c6405777baf35b2f01a05c4563d40be666ce7bd5a9f884f64ae7afd4d7ffc392"
  },
  "kernelspec": {
   "display_name": "Python 3.9.1 64-bit",
   "language": "python",
   "name": "python3"
  },
  "language_info": {
   "codemirror_mode": {
    "name": "ipython",
    "version": 3
   },
   "file_extension": ".py",
   "mimetype": "text/x-python",
   "name": "python",
   "nbconvert_exporter": "python",
   "pygments_lexer": "ipython3",
   "version": "3.9.1"
  },
  "orig_nbformat": 4
 },
 "nbformat": 4,
 "nbformat_minor": 2
}
