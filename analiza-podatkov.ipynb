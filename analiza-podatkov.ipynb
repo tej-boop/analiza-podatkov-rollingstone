{
 "cells": [
  {
   "cell_type": "markdown",
   "metadata": {},
   "source": [
    "# Analiza najbolj popularnih pesmi\n",
    "\n",
    "---\n"
   ]
  },
  {
   "cell_type": "markdown",
   "metadata": {},
   "source": [
    "## Uvod\n",
    "\n",
    "Pri projektni nalogi sem se osredotočila na analizo podatkov 100 najbolj popularnih pesmi v tednu 15. - 21. 10. 2021.\n",
    "Podatke sem pridobila s pomočjo lestvice, dostopne na spletni strani [Rolling Stone](https://www.rollingstone.com/charts/songs/2021-10-18/).\n",
    "\n",
    "Za vsako pesem sem zajela sledeče podatke:\n",
    "- naslov in izvajalec pesmi,\n",
    "- število tednov na lestvici,\n",
    "- število predvajanj (\"streams\"),\n",
    "- mesto, v katerem je pesem najbolj popularna (pri čemer se štejejo zgolj ameriška mesta),\n",
    "- glasbena založba, s katero izvajalec sodeluje.\n",
    "\n",
    "Podatke sem statistično obdelala ter analizirala njihovo soodvisnost glede na svoje delovne hipoteze:\n",
    "- Ali bo imela pesem večje število predvajanj, če je več tednov na lestvici?\n",
    "- Ali bodo na lestvici prevladovale pesmi, katerih izvajalci imajo pogodbe z glasbenimi založbami?\n"
   ]
  }
 ],
 "metadata": {
  "interpreter": {
   "hash": "c6405777baf35b2f01a05c4563d40be666ce7bd5a9f884f64ae7afd4d7ffc392"
  },
  "kernelspec": {
   "display_name": "Python 3.9.1 64-bit",
   "language": "python",
   "name": "python3"
  },
  "language_info": {
   "codemirror_mode": {
    "name": "ipython",
    "version": 3
   },
   "file_extension": ".py",
   "mimetype": "text/x-python",
   "name": "python",
   "nbconvert_exporter": "python",
   "pygments_lexer": "ipython3",
   "version": "3.9.1"
  },
  "orig_nbformat": 4
 },
 "nbformat": 4,
 "nbformat_minor": 2
}
